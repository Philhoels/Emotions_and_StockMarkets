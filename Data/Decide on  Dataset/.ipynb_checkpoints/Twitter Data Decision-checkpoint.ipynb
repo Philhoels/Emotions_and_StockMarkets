{
 "cells": [
  {
   "cell_type": "markdown",
   "metadata": {},
   "source": [
    "# Data decision\n",
    "\n",
    "In this notebook, I´m going to investigate both data set alternatives and make a decision on which data set to use."
   ]
  },
  {
   "cell_type": "code",
   "execution_count": 7,
   "metadata": {},
   "outputs": [],
   "source": [
    "# import needed libraries\n",
    "import json\n",
    "import pandas as pd"
   ]
  },
  {
   "cell_type": "markdown",
   "metadata": {},
   "source": [
    "## Dataset"
   ]
  },
  {
   "cell_type": "code",
   "execution_count": 21,
   "metadata": {},
   "outputs": [],
   "source": [
    "#read in two data set\n",
    "\n",
    "######## Trump Twitter Archive\n",
    "# load data\n",
    "with open('tt.json') as x:\n",
    "    Twitter_archive = json.load(x)\n",
    "\n",
    "######## Github - Twitter scraped data\n",
    "# load the tweets\n",
    "Twitter_scraped = pd.read_csv(\"trumptweets.csv\", sep=';')"
   ]
  },
  {
   "cell_type": "markdown",
   "metadata": {},
   "source": [
    "## Metrics to decide \n",
    "\n",
    "List of measurements:\n",
    "\n",
    "- Amount of tweets\n",
    "- data type\n",
    "- Frist and Last element\n",
    "\n",
    "\n",
    "Also\n",
    "\n",
    "- Text - The text needs to have the full length\n",
    "- Date\n",
    "- Retweets\n",
    "- Favorits \n",
    "- Retweets or his own"
   ]
  },
  {
   "cell_type": "markdown",
   "metadata": {},
   "source": [
    "### Twitter Archive"
   ]
  },
  {
   "cell_type": "code",
   "execution_count": 81,
   "metadata": {},
   "outputs": [
    {
     "name": "stdout",
     "output_type": "stream",
     "text": [
      "Length of data: 15161\n",
      "Data type; <class 'list'>\n"
     ]
    }
   ],
   "source": [
    "# amount of tweets\n",
    "# length\n",
    "length_Twitter_archive = len(Twitter_archive)\n",
    "print(\"Length of data:\", length_Twitter_archive)\n",
    "# data type\n",
    "print(\"Data type;\", type(Twitter_archive))"
   ]
  },
  {
   "cell_type": "markdown",
   "metadata": {},
   "source": [
    "### Twitter scraped data"
   ]
  },
  {
   "cell_type": "code",
   "execution_count": 29,
   "metadata": {
    "scrolled": true
   },
   "outputs": [
    {
     "name": "stdout",
     "output_type": "stream",
     "text": [
      "Length of data: 10250\n",
      "Data type; <class 'pandas.core.frame.DataFrame'>\n"
     ]
    }
   ],
   "source": [
    "# amount of tweets\n",
    "# length\n",
    "length_Twitter_scraped = Twitter_scraped.shape[0]\n",
    "print(\"Length of data:\", Twitter_scraped.shape[0])\n",
    "print(\"Data type;\", type(Twitter_scraped))"
   ]
  },
  {
   "cell_type": "markdown",
   "metadata": {},
   "source": [
    "## Amount of tweets - Check the amount of tweets without revtweets!\n"
   ]
  },
  {
   "cell_type": "markdown",
   "metadata": {},
   "source": [
    "Trumps twitter archive is much longer than the scraped data."
   ]
  },
  {
   "cell_type": "code",
   "execution_count": 32,
   "metadata": {},
   "outputs": [
    {
     "data": {
      "text/plain": [
       "4911"
      ]
     },
     "execution_count": 32,
     "metadata": {},
     "output_type": "execute_result"
    }
   ],
   "source": [
    "length_Twitter_archive - length_Twitter_scraped"
   ]
  },
  {
   "cell_type": "code",
   "execution_count": 59,
   "metadata": {
    "scrolled": true
   },
   "outputs": [
    {
     "name": "stdout",
     "output_type": "stream",
     "text": [
      "The amount of rewteets in Twitter Archive is:  2094\n"
     ]
    }
   ],
   "source": [
    "# check amount of retweets\n",
    "counter = 0\n",
    "for i in range(12500): # if I increase this amount (eg. length_Twitter_archive, it doesn´t run anymore)\n",
    "    if(Twitter_archive[i][\"is_retweet\"] == True):\n",
    "        counter = counter + 1\n",
    "print(\"The amount of rewteets in Twitter Archive is: \", counter)"
   ]
  },
  {
   "cell_type": "markdown",
   "metadata": {},
   "source": [
    "Even if I woud be able to check the whole amount of retweets, I looks like there are around **2500 more tweets in the *Twitter Archive*** data set."
   ]
  },
  {
   "cell_type": "markdown",
   "metadata": {},
   "source": [
    "## Metrics"
   ]
  },
  {
   "cell_type": "markdown",
   "metadata": {},
   "source": [
    "### Trump Twitter Archive"
   ]
  },
  {
   "cell_type": "code",
   "execution_count": 67,
   "metadata": {},
   "outputs": [
    {
     "name": "stdout",
     "output_type": "stream",
     "text": [
      "----\n",
      "RT @CarmineSabia: It is hilarious to see Speaker Pelosi so #Classless and #Broken. They know 2020 is gone. Who is their hero Pete Buttigieg…\n",
      "True\n",
      "----\n",
      "RT @kurt_mcgert: Way to not only represent yourself and your party. She is an absolute disgrace and she is everything that is wrong with ou…\n",
      "True\n",
      "----\n",
      "RT @DrewCHudson: Nancy Pelosi ripping up the State of the Union speech...I assume she planned to throw the trash on the sidewalk, given the…\n",
      "True\n",
      "----\n",
      "RT @AuroraLightzz: This is pure gold, because she’s the one parading how immature and childish the president is but then look how she acted…\n",
      "True\n",
      "----\n",
      "RT @HiredGun37: Today - The Senate gets to pull a #PelosiTantrum and do to the Impeachment Articles what she did to the SOTU. Karma is a bi…\n",
      "True\n",
      "----\n",
      "RT @Real_Theology: This is what building bridges to the American people looks like.. The #PelosiTantrum is a tragic image of how divided ou…\n",
      "True\n",
      "----\n",
      "RT @JonMart93888215: Where those the Articles of Impeachment Nancy was ripping up #PelosiTantrum\n",
      "True\n",
      "----\n",
      "RT @SauerBread: @SpeakerPelosi #PelosiTantrum\n",
      "A speech that\n",
      "•Honored so many Americans\n",
      "•Celebrated a strong US economy\n",
      "•Seeks to continue l…\n",
      "True\n",
      "----\n",
      "RT @StarParker: Who liberals hate. #PelosiNeedsToGo #pelositantrum https://t.co/W0tMjgOc1V\n",
      "True\n",
      "----\n",
      "RT @stillgray: #PelosiTantrum is trending. You hate to see it.\n",
      "True\n",
      "----\n",
      "RT @co_firing_line: The only thing Nancy Pelosi proved is that liberalism is an ideology of insane hate and rage.  She should be censured a…\n",
      "True\n",
      "----\n",
      "RT @Soll_DeWitt: History won't be kind for Nancy Pelosi: she will be remembered as the Speaker who initiated a malicious impeachment, who's…\n",
      "True\n",
      "----\n",
      "RT @TreasuryTutor: Dear USA\n",
      "Our political system here (UK) isn't perfect, but our Speaker is supposed to be impartial and neutral - and see…\n",
      "True\n",
      "----\n",
      "RT @chicksonright: It's perfect that  #PelosiTantrum is trending.  What a humiliating night for her all the way around.  \n",
      "\n",
      "Nance - you migh…\n",
      "True\n",
      "----\n",
      "RT @DrErinKateStair: That was weak, Nancy. I wish she held her cool. Plays into every female stereotype. \n",
      " #PelosiTantrum\n",
      "True\n",
      "----\n",
      "RT @NikkiHaley: The accomplishments speak for themselves. Congratulations @realDonaldTrump. ❤️🇺🇸 #SOTU #Results\n",
      "True\n",
      "----\n",
      "RT @NikkiHaley: Disappointed to see @SpeakerPelosi rip up the speech that mentioned lives we’ve lost and heroes we celebrated at the SOTU.…\n",
      "True\n",
      "----\n",
      "It was a great and triumphant evening for our Country. Thank you for all of the nice remarks and wonderful reviews of my State of the Union Speech. It was my great honor to have done it!\n",
      "False\n",
      "----\n",
      "#SOTU2020 https://t.co/W03gQLkdpo\n",
      "False\n",
      "----\n",
      "https://t.co/QeFYDg9jZ0\n",
      "False\n",
      "----\n",
      "My Approval Rating in the Republican Party = 95%, a record! Big Iowa win. Approval Rating overall = 53%, a new high. With our great Economy and other major successes, would be 20 points higher without the phony Witch Hunts and Hoaxes???\n",
      "False\n",
      "----\n",
      "Market up big today on very good economic news. JOBS, JOBS, JOBS!\n",
      "False\n",
      "----\n",
      "RT @CLewandowski_: It’s an honor to caucus for ⁦@realDonaldTrump⁩ at a packed house at the Panorama Elementary School in Iowa!  On to Victo…\n",
      "True\n",
      "----\n",
      "RT @TeamTrump: The Republican Party Has Never Been More United!\n",
      "\n",
      "#IowaCaucuses https://t.co/scbXdkvOag\n",
      "True\n",
      "----\n",
      "RT @GOPChairwoman: Congratulations to the winner of the #IACaucus: @realDonaldTrump. \n",
      "\n",
      "He won Iowa big in 2016, and he's going to carry it…\n",
      "True\n",
      "----\n",
      "RT @LaraLeaTrump: No matter who wins tonight on the democrat side, we know that America feels the incredible results of the President’s pol…\n",
      "True\n",
      "----\n",
      "RT @EricTrump: What an unbelievable night in #Iowa! The turnout and support for @realDonaldTrump was off the charts! #MAGA #NorwalkIA 🇺🇸🇺🇸…\n",
      "True\n",
      "----\n",
      "RT @TeamTrump: Meanwhile...\n",
      "\n",
      "President @realDonaldTrump CRUSHED all incumbent turnout records in Iowa! \n",
      "\n",
      "#IACaucus\n",
      "True\n",
      "----\n",
      "RT @GOPChairwoman: Congratulations to @realDonaldTrump for officially breaking the turnout record for an incumbent president in the #IACauc…\n",
      "True\n",
      "----\n",
      "RT @piersmorgan: 🤣\n",
      "True\n"
     ]
    }
   ],
   "source": [
    "######## Trump Twitter Archive\n",
    "# check if the sentence is complet\n",
    "for i in range(50,90):\n",
    "    print(\"----\")\n",
    "    print(Twitter_archive[i][\"text\"])\n",
    "    print(Twitter_archive[i][\"is_retweet\"])"
   ]
  },
  {
   "cell_type": "markdown",
   "metadata": {},
   "source": [
    "- Text - Yes\n",
    "- Date - Yes\n",
    "- Retweets - Yes\n",
    "- Favorits - Yes\n",
    "- Retweets or his own - Yes"
   ]
  },
  {
   "cell_type": "markdown",
   "metadata": {},
   "source": [
    "### Twitter scraped data"
   ]
  },
  {
   "cell_type": "code",
   "execution_count": 70,
   "metadata": {},
   "outputs": [
    {
     "data": {
      "text/html": [
       "<div>\n",
       "<style scoped>\n",
       "    .dataframe tbody tr th:only-of-type {\n",
       "        vertical-align: middle;\n",
       "    }\n",
       "\n",
       "    .dataframe tbody tr th {\n",
       "        vertical-align: top;\n",
       "    }\n",
       "\n",
       "    .dataframe thead th {\n",
       "        text-align: right;\n",
       "    }\n",
       "</style>\n",
       "<table border=\"1\" class=\"dataframe\">\n",
       "  <thead>\n",
       "    <tr style=\"text-align: right;\">\n",
       "      <th></th>\n",
       "      <th>username</th>\n",
       "      <th>date</th>\n",
       "      <th>retweets</th>\n",
       "      <th>favorites</th>\n",
       "      <th>text</th>\n",
       "      <th>geo</th>\n",
       "      <th>mentions</th>\n",
       "      <th>hashtags</th>\n",
       "      <th>id</th>\n",
       "      <th>permalink</th>\n",
       "    </tr>\n",
       "  </thead>\n",
       "  <tbody>\n",
       "    <tr>\n",
       "      <th>0</th>\n",
       "      <td>realDonaldTrump</td>\n",
       "      <td>09.02.20 00:47</td>\n",
       "      <td>13459</td>\n",
       "      <td>72445</td>\n",
       "      <td>A great coach and a fantastic guy. His endorse...</td>\n",
       "      <td>NaN</td>\n",
       "      <td>NaN</td>\n",
       "      <td>NaN</td>\n",
       "      <td>1,22629E+18</td>\n",
       "      <td>https://twitter.com/realDonaldTrump/status/122...</td>\n",
       "    </tr>\n",
       "    <tr>\n",
       "      <th>1</th>\n",
       "      <td>realDonaldTrump</td>\n",
       "      <td>08.02.20 22:08</td>\n",
       "      <td>47880</td>\n",
       "      <td>215503</td>\n",
       "      <td>Pete Rose played Major League Baseball for 24 ...</td>\n",
       "      <td>NaN</td>\n",
       "      <td>NaN</td>\n",
       "      <td>NaN</td>\n",
       "      <td>1,22625E+18</td>\n",
       "      <td>https://twitter.com/realDonaldTrump/status/122...</td>\n",
       "    </tr>\n",
       "    <tr>\n",
       "      <th>2</th>\n",
       "      <td>realDonaldTrump</td>\n",
       "      <td>08.02.20 20:48</td>\n",
       "      <td>9452</td>\n",
       "      <td>37402</td>\n",
       "      <td>Total and complete Endorsement for Debbie Lesk...</td>\n",
       "      <td>NaN</td>\n",
       "      <td>#NAME?</td>\n",
       "      <td>NaN</td>\n",
       "      <td>1,22623E+18</td>\n",
       "      <td>https://twitter.com/realDonaldTrump/status/122...</td>\n",
       "    </tr>\n",
       "    <tr>\n",
       "      <th>3</th>\n",
       "      <td>realDonaldTrump</td>\n",
       "      <td>08.02.20 20:40</td>\n",
       "      <td>17545</td>\n",
       "      <td>62484</td>\n",
       "      <td>Governor Cuomo wanted to see me this weekend. ...</td>\n",
       "      <td>NaN</td>\n",
       "      <td>NaN</td>\n",
       "      <td>NaN</td>\n",
       "      <td>1,22623E+18</td>\n",
       "      <td>https://twitter.com/realDonaldTrump/status/122...</td>\n",
       "    </tr>\n",
       "    <tr>\n",
       "      <th>4</th>\n",
       "      <td>realDonaldTrump</td>\n",
       "      <td>08.02.20 20:01</td>\n",
       "      <td>27437</td>\n",
       "      <td>120598</td>\n",
       "      <td>We will not be touching your Social Security o...</td>\n",
       "      <td>NaN</td>\n",
       "      <td>NaN</td>\n",
       "      <td>NaN</td>\n",
       "      <td>1,22622E+18</td>\n",
       "      <td>https://twitter.com/realDonaldTrump/status/122...</td>\n",
       "    </tr>\n",
       "  </tbody>\n",
       "</table>\n",
       "</div>"
      ],
      "text/plain": [
       "          username            date  retweets  favorites  \\\n",
       "0  realDonaldTrump  09.02.20 00:47     13459      72445   \n",
       "1  realDonaldTrump  08.02.20 22:08     47880     215503   \n",
       "2  realDonaldTrump  08.02.20 20:48      9452      37402   \n",
       "3  realDonaldTrump  08.02.20 20:40     17545      62484   \n",
       "4  realDonaldTrump  08.02.20 20:01     27437     120598   \n",
       "\n",
       "                                                text  geo mentions hashtags  \\\n",
       "0  A great coach and a fantastic guy. His endorse...  NaN      NaN      NaN   \n",
       "1  Pete Rose played Major League Baseball for 24 ...  NaN      NaN      NaN   \n",
       "2  Total and complete Endorsement for Debbie Lesk...  NaN   #NAME?      NaN   \n",
       "3  Governor Cuomo wanted to see me this weekend. ...  NaN      NaN      NaN   \n",
       "4  We will not be touching your Social Security o...  NaN      NaN      NaN   \n",
       "\n",
       "            id                                          permalink  \n",
       "0  1,22629E+18  https://twitter.com/realDonaldTrump/status/122...  \n",
       "1  1,22625E+18  https://twitter.com/realDonaldTrump/status/122...  \n",
       "2  1,22623E+18  https://twitter.com/realDonaldTrump/status/122...  \n",
       "3  1,22623E+18  https://twitter.com/realDonaldTrump/status/122...  \n",
       "4  1,22622E+18  https://twitter.com/realDonaldTrump/status/122...  "
      ]
     },
     "execution_count": 70,
     "metadata": {},
     "output_type": "execute_result"
    }
   ],
   "source": [
    "Twitter_scraped.head()"
   ]
  },
  {
   "cell_type": "code",
   "execution_count": 76,
   "metadata": {},
   "outputs": [
    {
     "name": "stdout",
     "output_type": "stream",
     "text": [
      "---\n",
      "My Approval Rating in the Republican Party = 95%, a record! Big Iowa win. Approval Rating overall = 53%, a new high. With our great Economy and other major successes, would be 20 points higher without the phony Witch Hunts and Hoaxes???\n",
      "---\n",
      "Market up big today on very good economic news. JOBS, JOBS, JOBS!\n",
      "---\n",
      "The Democrat Party in Iowa really messed up, but the Republican Party did not. I had the largest re-election vote in the history of that great state, by far, beating President Obama’s previous record by a lot. Also, 97% Plus of the vote! Thank you Iowa!\n",
      "---\n",
      "When will the Democrats start blaming RUSSIA, RUSSIA, RUSSIA, instead of their own incompetence for the voting disaster that just happened in the Great State of Iowa?\n",
      "---\n",
      "It is not the fault of Iowa, it is the Do Nothing Democrats fault. As long as I am President, Iowa will stay where it is. Important tradition! https:// twitter.com/SteveKornacki/ status/1224682732208508928 …\n",
      "---\n",
      "The Democrat Caucus is an unmitigated disaster. Nothing works, just like they ran the Country. Remember the 5 Billion Dollar Obamacare Website, that should have cost 2% of that. The only person that can claim a very big victory in Iowa last night is “Trump”.\n",
      "---\n",
      "Big WIN for us in Iowa tonight. Thank you!\n",
      "---\n",
      "Many people do not know what a great guy & fantastic political talent the great Rush Limbaugh is. There is nobody like him. Looking for a speedy recovery for our friend! https:// twitter.com/dcexaminer/sta tus/1224425704915374080 …\n",
      "---\n",
      "pic.twitter.com/KSVkKL76NM\n",
      "---\n",
      "Where’s the Whistleblower? Where’s the second Whistleblower? Where’s the Informer? Why did Corrupt politician Schiff MAKE UP my conversation with the Ukrainian President??? Why didn’t the House do its job? And sooo much more!\n",
      "---\n",
      "KEEP AMERICA GREAT!\n",
      "---\n",
      "MAKE AMERICA GREAT AGAIN!\n",
      "---\n",
      "Republicans in Iowa, go out and Caucus today. Your great Trade Deals with China, Mexico, Canada, Japan, South Korea and more, are DONE. Great times are coming, after waiting for decades, for our Farmers, Ranchers, Manufacturers and ALL. Nobody else could have pulled this off!\n",
      "---\n",
      "I hope Republicans & the American people realize that the totally partisan Impeachment Hoax is exacty that, a Hoax. Read the Transcripts, listen to what the President & Foreign Minister of Ukraine said (“No Pressure”). Nothing will ever satisfy the Do Nothing, Radical Left Dems!\n",
      "---\n",
      "@LindseyGrahamSC https:// twitter.com/michaelbeatty3 /status/1224003122055372800 …\n",
      "---\n",
      "The DNC on Bernie Sanders, “Looks like they’re going to do it to him again, doesn’t it?” @SteveDoocy @foxandfriends\n",
      "---\n",
      "Hope you liked this! https:// twitter.com/TeamTrump/stat us/1224171421221429248 …\n",
      "---\n",
      "Great company! https:// twitter.com/DiamondandSilk /status/1224115838304890883 …\n",
      "---\n",
      "Thank you Mike! https:// twitter.com/realMikeLindel l/status/1224068212893061122 …\n",
      "---\n",
      "So Great! https:// twitter.com/hunterw/status /1224082805405167618 …\n",
      "---\n",
      "Congratulations to the Kansas City Chiefs on a great game and a fantastic comeback under immense pressure. We are proud of you and the Great State of Missouri. You are true Champions!\n",
      "---\n",
      "I promised to restore hope in America. That includes the least among us. Together, let’s KEEP AMERICA GREAT! Text TRUMP to 88022 if you liked our Super Bowl ad! pic.twitter.com/Lgjt53B7QX\n",
      "---\n",
      "ENJOY THE GAME USA, OUR COUNTRY IS DOING GREAT!\n",
      "---\n",
      "My @SuperBowl Interview at 3:30 P.M. on @foxnetworks . Enjoy!\n",
      "---\n",
      "Mini Mike is now negotiating both to get on the Democrat Primary debate stage, and to have the right to stand on boxes, or a lift, during the debates. This is sometimes done, but really not fair!\n",
      "---\n",
      "Many of the ads you are watching were paid for by Mini Mike Bloomberg. He is going nowhere, just wasting his money, but he is getting the DNC to rig the election against Crazy Bernie, something they wouldn’t do for @CoryBooker and others. They are doing it to Bernie again, 2016.\n",
      "---\n",
      "Mini Mike is part of the Fake News. They are all working together. In fact, Bloomberg isn’t covering himself (too boring to do), or other Dems. Only Trump. That sounds fair! It’s all the Fake News Media, and that’s why nobody believes in them any more.\n",
      "---\n",
      "The Radical Left, Do Nothing Democrats, don’t want justice when pushing the Impeachment Hoax, they only want to destabilize the Republican Party so they can do better in the 2020 election, & that includes the House & Senate. They are playing with the people by taking it this far!\n",
      "---\n",
      "Correct! https:// twitter.com/senatemajldr/s tatus/1219826046125641733 …\n",
      "---\n",
      "Thanks for your invaluable help Chuck! https:// twitter.com/chuckgrassley/ status/1222666109599539200 …\n",
      "---\n",
      "Wall is moving along strong, tall and quickly. Thank you Jim for all of your help! https:// twitter.com/JimInhofe/stat us/1120434609131532288 …\n",
      "---\n",
      "Thank you John! https:// twitter.com/SenJohnBarrass o/status/1223262560155250688 …\n",
      "---\n",
      "Happy birthday to a wonderful man & friend! https:// twitter.com/SenJohnBarrass o/status/1223618785594265600 …\n",
      "---\n",
      "Getting a little exercise this morning! pic.twitter.com/fyAAcbhbgk\n",
      "---\n",
      "Trump poll numbers are the highest since election, despite constant phony Witch Hunts! Tens of thousands of people attending rallies (which the Fake News never mentions) to see “The Greatest Show On Earth”. Fun because USA is WINNING AGAIN! https:// twitter.com/olivianuzzi/st atus/1223302455276064770 …\n",
      "---\n",
      "Congratulations to @loudobbs , Number One. Lou has shown the Fake News what happens when you cover “America’s Greatest President” fairly & objectively! #MAGA #KAG https:// twitter.com/LouDobbs/statu s/1222664158342152193 …\n",
      "---\n",
      "No matter what you give to the Democrats, in the end, they will NEVER be satisfied. In the House, they gave us NOTHING!\n",
      "---\n",
      "Democrats = 17 Witnesses. Republicans = 0 Witnesses.\n",
      "---\n",
      "The Radical Left, Do Nothing Democrats keep chanting “fairness”, when they put on the most unfair Witch Hunt in the history of the U.S. Congress. They had 17 Witnesses, we were allowed ZERO, and no lawyers. They didn’t do their job, had no case. The Dems are scamming America!\n",
      "---\n",
      "Incredible numbers! https:// twitter.com/realDonaldTrum p/status/1223099086389121026 …\n"
     ]
    }
   ],
   "source": [
    "for i in range(50,90):\n",
    "    print(\"---\")\n",
    "    print(Twitter_scraped.text[i])"
   ]
  },
  {
   "cell_type": "markdown",
   "metadata": {},
   "source": [
    "- Text - Yes\n",
    "- Date - Yes\n",
    "- Retweets - Yes\n",
    "- Favorits - Yes\n",
    "- Retweets or his own - Yes"
   ]
  },
  {
   "cell_type": "markdown",
   "metadata": {},
   "source": [
    "### Trump Twitter Archive"
   ]
  },
  {
   "cell_type": "markdown",
   "metadata": {},
   "source": [
    "In this part of the notebook I´m going to create data of *Twitter Archive*, without retweets!"
   ]
  },
  {
   "cell_type": "code",
   "execution_count": 82,
   "metadata": {
    "scrolled": true
   },
   "outputs": [
    {
     "data": {
      "text/plain": [
       "15161"
      ]
     },
     "execution_count": 82,
     "metadata": {},
     "output_type": "execute_result"
    }
   ],
   "source": [
    "length_Twitter_archive"
   ]
  },
  {
   "cell_type": "code",
   "execution_count": 101,
   "metadata": {},
   "outputs": [
    {
     "ename": "KeyError",
     "evalue": "'is_retweet'",
     "output_type": "error",
     "traceback": [
      "\u001b[0;31m---------------------------------------------------------------------------\u001b[0m",
      "\u001b[0;31mKeyError\u001b[0m                                  Traceback (most recent call last)",
      "\u001b[0;32m<ipython-input-101-f7319f2a6622>\u001b[0m in \u001b[0;36m<module>\u001b[0;34m\u001b[0m\n\u001b[1;32m      3\u001b[0m \u001b[0;32mfor\u001b[0m \u001b[0mi\u001b[0m \u001b[0;32min\u001b[0m \u001b[0mrange\u001b[0m\u001b[0;34m(\u001b[0m\u001b[0mlength_Twitter_archive\u001b[0m\u001b[0;34m)\u001b[0m\u001b[0;34m:\u001b[0m\u001b[0;34m\u001b[0m\u001b[0;34m\u001b[0m\u001b[0m\n\u001b[1;32m      4\u001b[0m     \u001b[0mcount1\u001b[0m \u001b[0;34m=\u001b[0m \u001b[0mcount1\u001b[0m \u001b[0;34m+\u001b[0m \u001b[0;36m1\u001b[0m\u001b[0;34m\u001b[0m\u001b[0;34m\u001b[0m\u001b[0m\n\u001b[0;32m----> 5\u001b[0;31m     \u001b[0;32mif\u001b[0m\u001b[0;34m(\u001b[0m\u001b[0mTwitter_archive\u001b[0m\u001b[0;34m[\u001b[0m\u001b[0mi\u001b[0m\u001b[0;34m]\u001b[0m\u001b[0;34m[\u001b[0m\u001b[0;34m\"is_retweet\"\u001b[0m\u001b[0;34m]\u001b[0m \u001b[0;34m==\u001b[0m \u001b[0;32mTrue\u001b[0m\u001b[0;34m)\u001b[0m\u001b[0;34m:\u001b[0m\u001b[0;34m\u001b[0m\u001b[0;34m\u001b[0m\u001b[0m\n\u001b[0m\u001b[1;32m      6\u001b[0m         \u001b[0mcount2\u001b[0m \u001b[0;34m=\u001b[0m \u001b[0mcount2\u001b[0m \u001b[0;34m+\u001b[0m \u001b[0;36m1\u001b[0m\u001b[0;34m\u001b[0m\u001b[0;34m\u001b[0m\u001b[0m\n",
      "\u001b[0;31mKeyError\u001b[0m: 'is_retweet'"
     ]
    }
   ],
   "source": [
    "count1 = 0\n",
    "count2 = 0\n",
    "for i in range(length_Twitter_archive):\n",
    "    count1 = count1 + 1\n",
    "    if(Twitter_archive[i][\"is_retweet\"] == True):\n",
    "        count2 = count2 + 1"
   ]
  },
  {
   "cell_type": "code",
   "execution_count": 102,
   "metadata": {
    "scrolled": true
   },
   "outputs": [
    {
     "name": "stdout",
     "output_type": "stream",
     "text": [
      "12553\n",
      "2100\n"
     ]
    }
   ],
   "source": [
    "print(count1)\n",
    "print(count2)"
   ]
  },
  {
   "cell_type": "code",
   "execution_count": 108,
   "metadata": {},
   "outputs": [
    {
     "data": {
      "text/plain": [
       "{'source': 'Twitter for iPhone',\n",
       " 'text': 'Today, it was my great honor to sign a new Executive Order to ensure Veterans have the resources they need as they transition back to civilian life. We must ensure that our HEROES are given the care and support they so richly deserve! https://t.co/0MdP9DDIAS https://t.co/LP2a8KCBAp',\n",
       " 'created_at': 'Tue Jan 09 23:07:09 +0000 2018',\n",
       " 'retweet_count': 19481,\n",
       " 'favorite_count': 82151,\n",
       " 'is_retweet': False,\n",
       " 'id_str': '950866561153331202'}"
      ]
     },
     "execution_count": 108,
     "metadata": {},
     "output_type": "execute_result"
    }
   ],
   "source": [
    "Twitter_archive[12551]"
   ]
  },
  {
   "cell_type": "markdown",
   "metadata": {},
   "source": [
    "**Result**\n",
    "It´s to see the .josn element doesn´t have the attribute *is_retweet* for every item! \n",
    "12551 is the last element which does have the *is_retweet* metric. \n",
    "\n",
    "**Therefore I go with the twitter scraped dataset.**"
   ]
  },
  {
   "cell_type": "markdown",
   "metadata": {},
   "source": [
    "# Result - Twitter scraped data"
   ]
  },
  {
   "cell_type": "code",
   "execution_count": null,
   "metadata": {},
   "outputs": [],
   "source": []
  }
 ],
 "metadata": {
  "kernelspec": {
   "display_name": "Python 3",
   "language": "python",
   "name": "python3"
  },
  "language_info": {
   "codemirror_mode": {
    "name": "ipython",
    "version": 3
   },
   "file_extension": ".py",
   "mimetype": "text/x-python",
   "name": "python",
   "nbconvert_exporter": "python",
   "pygments_lexer": "ipython3",
   "version": "3.7.4"
  }
 },
 "nbformat": 4,
 "nbformat_minor": 4
}
