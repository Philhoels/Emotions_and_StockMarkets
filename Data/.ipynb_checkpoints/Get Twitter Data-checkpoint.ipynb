{
 "cells": [
  {
   "cell_type": "code",
   "execution_count": 1,
   "metadata": {},
   "outputs": [
    {
     "name": "stdout",
     "output_type": "stream",
     "text": [
      "Let´s get started\n"
     ]
    }
   ],
   "source": [
    "print(\"Let´s get started\")"
   ]
  },
  {
   "cell_type": "markdown",
   "metadata": {},
   "source": [
    "In this notebook, I´m going to explain step by step what I did to get Trump´s twitter data from the first day of his presidency on January 20, 2017, until the 7th of February 2020.\n",
    "I´m going to use the tweepy API to extract the twitter data.\n",
    "\n",
    "- What: Trumps tweets\n",
    "- Time: from 07.01.2017 to 20.01.2020\n",
    "- How: tweepy AIP"
   ]
  },
  {
   "cell_type": "code",
   "execution_count": 5,
   "metadata": {},
   "outputs": [],
   "source": [
    "# import the needed libraries\n",
    "import os\n",
    "import tweepy as tw\n",
    "import pandas as pd"
   ]
  },
  {
   "cell_type": "markdown",
   "metadata": {},
   "source": [
    "The next step is to get a twitter developer account, this is needed to access the tweets.\n",
    "In previous research I created back than an account, therefore I use this access from the past.\n",
    "\n",
    "- consumer_key = \"uYqdnmEfQdo8UCihFdYAKMST0\"\n",
    "- consumer_secret = \"DzJ7xkxx0XBbj0uuW8tWsqqTdgdm8r8L4JrbrKch6pP41mwhuK\"\n",
    "- access_token = \"864101367014711296-kzlQkr0oPj0793pAX3c4mPYtlvlX7Qw\"\n",
    "- access_secret =\"vPLJXprEMI3MlBUAXBpVvbOaeoPFVDxZwqUT0wRNF4fjQ\""
   ]
  },
  {
   "cell_type": "code",
   "execution_count": 6,
   "metadata": {},
   "outputs": [],
   "source": [
    "#Twitter credentials for the app\n",
    "consumer_key= 'uYqdnmEfQdo8UCihFdYAKMST0'\n",
    "consumer_secret= 'DzJ7xkxx0XBbj0uuW8tWsqqTdgdm8r8L4JrbrKch6pP41mwhuK'\n",
    "access_token= '864101367014711296-kzlQkr0oPj0793pAX3c4mPYtlvlX7Qw'\n",
    "access_token_secret= 'vPLJXprEMI3MlBUAXBpVvbOaeoPFVDxZwqUT0wRNF4fjQ'"
   ]
  },
  {
   "cell_type": "code",
   "execution_count": 15,
   "metadata": {},
   "outputs": [],
   "source": [
    "#pass twitter credentials to tweepy\n",
    "auth = tw.OAuthHandler(consumer_key, consumer_secret)\n",
    "auth.set_access_token(access_token, access_token_secret)\n",
    "api = tw.API(auth, wait_on_rate_limit=True)"
   ]
  },
  {
   "cell_type": "markdown",
   "metadata": {},
   "source": [
    "**Search tweet**"
   ]
  },
  {
   "cell_type": "code",
   "execution_count": 38,
   "metadata": {},
   "outputs": [],
   "source": [
    "# testing the #realDonaldTrump\n",
    "search_words = \"@realDonaldTrump\"\n",
    "date_since = \"2020-02-06\""
   ]
  },
  {
   "cell_type": "code",
   "execution_count": 39,
   "metadata": {},
   "outputs": [
    {
     "data": {
      "text/plain": [
       "<tweepy.cursor.ItemIterator at 0x116d4ea90>"
      ]
     },
     "execution_count": 39,
     "metadata": {},
     "output_type": "execute_result"
    }
   ],
   "source": [
    "# Collect tweets\n",
    "tweets = tw.Cursor(api.search,\n",
    "              q=search_words,\n",
    "              lang=\"en\",\n",
    "              since=date_since).items(5)\n",
    "tweets"
   ]
  },
  {
   "cell_type": "code",
   "execution_count": 40,
   "metadata": {},
   "outputs": [
    {
     "data": {
      "text/plain": [
       "tweepy.cursor.ItemIterator"
      ]
     },
     "execution_count": 40,
     "metadata": {},
     "output_type": "execute_result"
    }
   ],
   "source": [
    "type(tweets)"
   ]
  },
  {
   "cell_type": "code",
   "execution_count": 41,
   "metadata": {},
   "outputs": [
    {
     "name": "stdout",
     "output_type": "stream",
     "text": [
      "------\n",
      "RT @StumpforTrump: BREAKING: Trump Administration Removes Anti-Trump Deep State Operative Alex Vindman from NSC Following His Role in Impea…\n",
      "------\n",
      "RT @realDonaldTrump: Nevada, I hear you on Yucca Mountain and my Administration will RESPECT you! Congress and previous Administrations hav…\n",
      "------\n",
      "RT @realDonaldTrump: Thank you Charlie!\n",
      "------\n",
      "RT @ColumbiaBugle: @realDonaldTrump Not sure if Charlie understands America First https://t.co/ojAFfRf6At\n",
      "------\n",
      "RT @NancyJKoch: @RealJamesWoods Citizens of  the great state of Utah, pppplease don’t do it  again... Talk about a petty self righteous los…\n"
     ]
    }
   ],
   "source": [
    "for tweet in tweets:\n",
    "    print(\"------\")\n",
    "    print(tweet.text)"
   ]
  },
  {
   "cell_type": "code",
   "execution_count": 37,
   "metadata": {},
   "outputs": [
    {
     "data": {
      "text/plain": [
       "['@RealCandaceO @realDonaldTrump And the lies keep onna coming.',\n",
       " 'RT @TomFitton: I hope the reports are correct that @RealDonaldTrump admin removing Vindman from WH. https://t.co/2NsHkYP10N',\n",
       " '@AndyOstroy @realDonaldTrump Bc they all know what happens to those who oppose him.  Case and point Mitt Romney.  H… https://t.co/uN0fnaFe5E',\n",
       " '@CarolineSiegel3 @NoWay7790 @realDonaldTrump You just described the republicans and their supporters to a T. Project much?',\n",
       " '@realDonaldTrump Mr. President, we miss the drones and the beautiful   missiles.']"
      ]
     },
     "execution_count": 37,
     "metadata": {},
     "output_type": "execute_result"
    }
   ],
   "source": [
    "# Collect a list of tweets\n",
    "[tweet.text for tweet in tweets]"
   ]
  },
  {
   "cell_type": "code",
   "execution_count": 112,
   "metadata": {},
   "outputs": [
    {
     "data": {
      "text/plain": [
       "[['thomas76631693',\n",
       "  '',\n",
       "  '@tedcruz @realDonaldTrump Can u emagin her being president she don’t look like a president she@looks more@like a home moma'],\n",
       " ['KeithDRitchie',\n",
       "  'Maryland, USA',\n",
       "  \"@realDonaldTrump Criminals need to stick together to pull off their corruption.  And to feed each other's sad egos. #CriminalInChief\"],\n",
       " ['romeo49435',\n",
       "  'west long branch ',\n",
       "  '@RudyGiuliani @RudyGiuliani as always wants to do it on @FoxNews cause he knows his client @realDonaldTrump paid of… https://t.co/Jl44gqiPJu'],\n",
       " ['Jgigi8',\n",
       "  'United States',\n",
       "  '@GeraldoRivera @SpeakerPelosi @realDonaldTrump NO Geraldo!  Nancy Pelosi led the copal against President Trump!\\n  P… https://t.co/3HMhJkFUQR'],\n",
       " ['DumpCuomo',\n",
       "  'New York, USA',\n",
       "  '@PeteButtigieg I want to bring the country together; @PeteButtigieg 63 million supporters of @realDonaldTrump are r… https://t.co/drQ9u8mDpR']]"
      ]
     },
     "execution_count": 112,
     "metadata": {},
     "output_type": "execute_result"
    }
   ],
   "source": [
    "new_search = search_words + \" -filter:retweets\"\n",
    "tweets = tw.Cursor(api.search,\n",
    "                   q=new_search,\n",
    "                   lang=\"en\",\n",
    "                   since=date_since).items(5)\n",
    "\n",
    "users_locs = [[tweet.user.screen_name, tweet.user.location, tweet.text] for tweet in tweets]\n",
    "users_locs"
   ]
  },
  {
   "cell_type": "code",
   "execution_count": 113,
   "metadata": {
    "scrolled": false
   },
   "outputs": [
    {
     "data": {
      "text/html": [
       "<div>\n",
       "<style scoped>\n",
       "    .dataframe tbody tr th:only-of-type {\n",
       "        vertical-align: middle;\n",
       "    }\n",
       "\n",
       "    .dataframe tbody tr th {\n",
       "        vertical-align: top;\n",
       "    }\n",
       "\n",
       "    .dataframe thead th {\n",
       "        text-align: right;\n",
       "    }\n",
       "</style>\n",
       "<table border=\"1\" class=\"dataframe\">\n",
       "  <thead>\n",
       "    <tr style=\"text-align: right;\">\n",
       "      <th></th>\n",
       "      <th>user</th>\n",
       "      <th>location</th>\n",
       "      <th>text</th>\n",
       "    </tr>\n",
       "  </thead>\n",
       "  <tbody>\n",
       "    <tr>\n",
       "      <th>0</th>\n",
       "      <td>thomas76631693</td>\n",
       "      <td></td>\n",
       "      <td>@tedcruz @realDonaldTrump Can u emagin her bei...</td>\n",
       "    </tr>\n",
       "    <tr>\n",
       "      <th>1</th>\n",
       "      <td>KeithDRitchie</td>\n",
       "      <td>Maryland, USA</td>\n",
       "      <td>@realDonaldTrump Criminals need to stick toget...</td>\n",
       "    </tr>\n",
       "    <tr>\n",
       "      <th>2</th>\n",
       "      <td>romeo49435</td>\n",
       "      <td>west long branch</td>\n",
       "      <td>@RudyGiuliani @RudyGiuliani as always wants to...</td>\n",
       "    </tr>\n",
       "    <tr>\n",
       "      <th>3</th>\n",
       "      <td>Jgigi8</td>\n",
       "      <td>United States</td>\n",
       "      <td>@GeraldoRivera @SpeakerPelosi @realDonaldTrump...</td>\n",
       "    </tr>\n",
       "    <tr>\n",
       "      <th>4</th>\n",
       "      <td>DumpCuomo</td>\n",
       "      <td>New York, USA</td>\n",
       "      <td>@PeteButtigieg I want to bring the country tog...</td>\n",
       "    </tr>\n",
       "  </tbody>\n",
       "</table>\n",
       "</div>"
      ],
      "text/plain": [
       "             user           location  \\\n",
       "0  thomas76631693                      \n",
       "1   KeithDRitchie      Maryland, USA   \n",
       "2      romeo49435  west long branch    \n",
       "3          Jgigi8      United States   \n",
       "4       DumpCuomo      New York, USA   \n",
       "\n",
       "                                                text  \n",
       "0  @tedcruz @realDonaldTrump Can u emagin her bei...  \n",
       "1  @realDonaldTrump Criminals need to stick toget...  \n",
       "2  @RudyGiuliani @RudyGiuliani as always wants to...  \n",
       "3  @GeraldoRivera @SpeakerPelosi @realDonaldTrump...  \n",
       "4  @PeteButtigieg I want to bring the country tog...  "
      ]
     },
     "execution_count": 113,
     "metadata": {},
     "output_type": "execute_result"
    }
   ],
   "source": [
    "# create a dataframe so save information\n",
    "tweet_text = pd.DataFrame(data=users_locs, \n",
    "                    columns=['user', \"location\", \"text\"])\n",
    "tweet_text"
   ]
  },
  {
   "cell_type": "code",
   "execution_count": 114,
   "metadata": {},
   "outputs": [
    {
     "data": {
      "text/plain": [
       "'@RudyGiuliani @RudyGiuliani as always wants to do it on @FoxNews cause he knows his client @realDonaldTrump paid of… https://t.co/Jl44gqiPJu'"
      ]
     },
     "execution_count": 114,
     "metadata": {},
     "output_type": "execute_result"
    }
   ],
   "source": [
    "tweet_text.text[2]"
   ]
  },
  {
   "cell_type": "markdown",
   "metadata": {},
   "source": [
    "**Trump example**"
   ]
  },
  {
   "cell_type": "code",
   "execution_count": 119,
   "metadata": {},
   "outputs": [
    {
     "data": {
      "text/plain": [
       "[['realDonaldTrump',\n",
       "  datetime.datetime(2020, 2, 7, 13, 51, 7),\n",
       "  'https://t.co/9GEW2VZu5h']]"
      ]
     },
     "execution_count": 119,
     "metadata": {},
     "output_type": "execute_result"
    }
   ],
   "source": [
    "#make initial request for most recent tweets (200 is the maximum allowed count)\n",
    "trumps_tweets = api.user_timeline(screen_name = \"@realDonaldTrump\",count=10, since_id = \"2020-01-06\")\n",
    "trumps_tweets_list = [[tweet.user.screen_name, tweet.created_at, tweet.text] for tweet in trumps_tweets]\n",
    "trumps_tweets_list\n"
   ]
  },
  {
   "cell_type": "code",
   "execution_count": 120,
   "metadata": {},
   "outputs": [
    {
     "data": {
      "text/html": [
       "<div>\n",
       "<style scoped>\n",
       "    .dataframe tbody tr th:only-of-type {\n",
       "        vertical-align: middle;\n",
       "    }\n",
       "\n",
       "    .dataframe tbody tr th {\n",
       "        vertical-align: top;\n",
       "    }\n",
       "\n",
       "    .dataframe thead th {\n",
       "        text-align: right;\n",
       "    }\n",
       "</style>\n",
       "<table border=\"1\" class=\"dataframe\">\n",
       "  <thead>\n",
       "    <tr style=\"text-align: right;\">\n",
       "      <th></th>\n",
       "      <th>user</th>\n",
       "      <th>time</th>\n",
       "      <th>text</th>\n",
       "    </tr>\n",
       "  </thead>\n",
       "  <tbody>\n",
       "    <tr>\n",
       "      <th>0</th>\n",
       "      <td>realDonaldTrump</td>\n",
       "      <td>2020-02-07 13:51:07</td>\n",
       "      <td>https://t.co/9GEW2VZu5h</td>\n",
       "    </tr>\n",
       "  </tbody>\n",
       "</table>\n",
       "</div>"
      ],
      "text/plain": [
       "              user                time                     text\n",
       "0  realDonaldTrump 2020-02-07 13:51:07  https://t.co/9GEW2VZu5h"
      ]
     },
     "execution_count": 120,
     "metadata": {},
     "output_type": "execute_result"
    }
   ],
   "source": [
    "trumps_tweets_df = pd.DataFrame(data=trumps_tweets_list, \n",
    "                                columns=['user', \"time\", \"text\"])\n",
    "trumps_tweets_df"
   ]
  },
  {
   "cell_type": "code",
   "execution_count": 121,
   "metadata": {},
   "outputs": [
    {
     "data": {
      "text/plain": [
       "'https://t.co/9GEW2VZu5h'"
      ]
     },
     "execution_count": 121,
     "metadata": {},
     "output_type": "execute_result"
    }
   ],
   "source": [
    "trumps_tweets_df.text[0]"
   ]
  },
  {
   "cell_type": "markdown",
   "metadata": {},
   "source": [
    "**Problem definition**\n",
    "\n",
    "- Extract data for a specific **time period**\n",
    "- How to access the **full tweeted text** of the sentence\n",
    "- Decide if **retweet** should be used or not\n",
    "- Need to do **data cleaning**\n",
    "- Just **access** to tweets of the **last 7 days**"
   ]
  },
  {
   "cell_type": "markdown",
   "metadata": {},
   "source": [
    "### Problem: Full tweet text"
   ]
  },
  {
   "cell_type": "code",
   "execution_count": 123,
   "metadata": {
    "scrolled": true
   },
   "outputs": [
    {
     "data": {
      "text/html": [
       "<div>\n",
       "<style scoped>\n",
       "    .dataframe tbody tr th:only-of-type {\n",
       "        vertical-align: middle;\n",
       "    }\n",
       "\n",
       "    .dataframe tbody tr th {\n",
       "        vertical-align: top;\n",
       "    }\n",
       "\n",
       "    .dataframe thead th {\n",
       "        text-align: right;\n",
       "    }\n",
       "</style>\n",
       "<table border=\"1\" class=\"dataframe\">\n",
       "  <thead>\n",
       "    <tr style=\"text-align: right;\">\n",
       "      <th></th>\n",
       "      <th>user</th>\n",
       "      <th>time</th>\n",
       "      <th>text</th>\n",
       "    </tr>\n",
       "  </thead>\n",
       "  <tbody>\n",
       "    <tr>\n",
       "      <th>0</th>\n",
       "      <td>realDonaldTrump</td>\n",
       "      <td>2020-02-07 13:51:07</td>\n",
       "      <td>https://t.co/9GEW2VZu5h</td>\n",
       "    </tr>\n",
       "    <tr>\n",
       "      <th>1</th>\n",
       "      <td>realDonaldTrump</td>\n",
       "      <td>2020-02-07 12:59:58</td>\n",
       "      <td>I think they should blame RUSSIA, RUSSIA, RUSS...</td>\n",
       "    </tr>\n",
       "    <tr>\n",
       "      <th>2</th>\n",
       "      <td>realDonaldTrump</td>\n",
       "      <td>2020-02-07 12:55:06</td>\n",
       "      <td>Welcome back James! https://t.co/m116MGrrRo</td>\n",
       "    </tr>\n",
       "    <tr>\n",
       "      <th>3</th>\n",
       "      <td>realDonaldTrump</td>\n",
       "      <td>2020-02-07 12:47:41</td>\n",
       "      <td>Very true, thank you Ted &amp;amp; John. I love Te...</td>\n",
       "    </tr>\n",
       "    <tr>\n",
       "      <th>4</th>\n",
       "      <td>realDonaldTrump</td>\n",
       "      <td>2020-02-07 12:45:53</td>\n",
       "      <td>RT @RandPaul: Since President Trump’s election...</td>\n",
       "    </tr>\n",
       "    <tr>\n",
       "      <th>5</th>\n",
       "      <td>realDonaldTrump</td>\n",
       "      <td>2020-02-07 12:45:47</td>\n",
       "      <td>RT @RandPaul: Democrats cooked up two articles...</td>\n",
       "    </tr>\n",
       "    <tr>\n",
       "      <th>6</th>\n",
       "      <td>realDonaldTrump</td>\n",
       "      <td>2020-02-07 12:45:29</td>\n",
       "      <td>RT @RandPaul: I stand with @realDonaldTrump! L...</td>\n",
       "    </tr>\n",
       "    <tr>\n",
       "      <th>7</th>\n",
       "      <td>realDonaldTrump</td>\n",
       "      <td>2020-02-07 12:45:18</td>\n",
       "      <td>RT @SergioGor: Today @RandPaul spoke with @mik...</td>\n",
       "    </tr>\n",
       "    <tr>\n",
       "      <th>8</th>\n",
       "      <td>realDonaldTrump</td>\n",
       "      <td>2020-02-07 12:43:00</td>\n",
       "      <td>RT @marcorubio: The Speaker embarrassed hersel...</td>\n",
       "    </tr>\n",
       "    <tr>\n",
       "      <th>9</th>\n",
       "      <td>realDonaldTrump</td>\n",
       "      <td>2020-02-07 12:42:49</td>\n",
       "      <td>RT @marcorubio: Last night at the #SOTU2020 tw...</td>\n",
       "    </tr>\n",
       "  </tbody>\n",
       "</table>\n",
       "</div>"
      ],
      "text/plain": [
       "              user                time  \\\n",
       "0  realDonaldTrump 2020-02-07 13:51:07   \n",
       "1  realDonaldTrump 2020-02-07 12:59:58   \n",
       "2  realDonaldTrump 2020-02-07 12:55:06   \n",
       "3  realDonaldTrump 2020-02-07 12:47:41   \n",
       "4  realDonaldTrump 2020-02-07 12:45:53   \n",
       "5  realDonaldTrump 2020-02-07 12:45:47   \n",
       "6  realDonaldTrump 2020-02-07 12:45:29   \n",
       "7  realDonaldTrump 2020-02-07 12:45:18   \n",
       "8  realDonaldTrump 2020-02-07 12:43:00   \n",
       "9  realDonaldTrump 2020-02-07 12:42:49   \n",
       "\n",
       "                                                text  \n",
       "0                            https://t.co/9GEW2VZu5h  \n",
       "1  I think they should blame RUSSIA, RUSSIA, RUSS...  \n",
       "2        Welcome back James! https://t.co/m116MGrrRo  \n",
       "3  Very true, thank you Ted &amp; John. I love Te...  \n",
       "4  RT @RandPaul: Since President Trump’s election...  \n",
       "5  RT @RandPaul: Democrats cooked up two articles...  \n",
       "6  RT @RandPaul: I stand with @realDonaldTrump! L...  \n",
       "7  RT @SergioGor: Today @RandPaul spoke with @mik...  \n",
       "8  RT @marcorubio: The Speaker embarrassed hersel...  \n",
       "9  RT @marcorubio: Last night at the #SOTU2020 tw...  "
      ]
     },
     "execution_count": 123,
     "metadata": {},
     "output_type": "execute_result"
    }
   ],
   "source": [
    "#make initial request \n",
    "trumps_tweets = api.user_timeline(screen_name = \"@realDonaldTrump\", count=10, \n",
    "                                  since_id = \"2020-01-06\",\n",
    "                                  tweet_mode=\"extended\")\n",
    "# filter for specific attributes\n",
    "trumps_tweets_list = [[tweet.user.screen_name, tweet.created_at, tweet.full_text] for tweet in trumps_tweets]\n",
    "\n",
    "trumps_tweets_df = pd.DataFrame(data=trumps_tweets_list, \n",
    "                                columns=['user', \"time\", \"text\"])\n",
    "trumps_tweets_df\n"
   ]
  },
  {
   "cell_type": "code",
   "execution_count": 124,
   "metadata": {},
   "outputs": [
    {
     "data": {
      "text/plain": [
       "'I think they should blame RUSSIA, RUSSIA, RUSSIA again! If they can’t count votes properly, how are they going to run U.S. HealthCare? https://t.co/JsNB8jvKoo'"
      ]
     },
     "execution_count": 124,
     "metadata": {},
     "output_type": "execute_result"
    }
   ],
   "source": [
    "trumps_tweets_df.text[1]"
   ]
  },
  {
   "cell_type": "markdown",
   "metadata": {},
   "source": [
    "### Problem: retweet\n",
    "\n",
    "Trump tweets a lot (quantify) much, his own created tweets are most interesting.\n",
    "\n",
    "Other reasons why not retweets:\n",
    "\n",
    "- smaller amount of tweets\n",
    "- own tweets represent more important to him\n",
    "- uses twitter havily as communication plattform, retweets a looooottt!!\n",
    "- The question is how is emotions influences the US economy, especially his own tweets and retweets shoud have a bigger impact to this question"
   ]
  },
  {
   "cell_type": "markdown",
   "metadata": {},
   "source": [
    "**Quantification of his tweet activity**\n",
    "\n",
    "Therefor, check the frist 10 tweets and count the number of retweets."
   ]
  },
  {
   "cell_type": "code",
   "execution_count": 132,
   "metadata": {},
   "outputs": [
    {
     "name": "stdout",
     "output_type": "stream",
     "text": [
      "Of the first X words are 6 retweets.\n"
     ]
    }
   ],
   "source": [
    "nr_of_retweets = 0\n",
    "for tweet in trumps_tweets_df.text:\n",
    "    word = tweet.split()\n",
    "    if word[0] == \"RT\":\n",
    "        nr_of_retweets = nr_of_retweets +1\n",
    "print(\"Of the first X words are\", nr_of_retweets, \"retweets.\")"
   ]
  },
  {
   "cell_type": "code",
   "execution_count": 155,
   "metadata": {},
   "outputs": [
    {
     "name": "stdout",
     "output_type": "stream",
     "text": [
      "Days: 0\n",
      "Minutes: 68\n"
     ]
    }
   ],
   "source": [
    "end = trumps_tweets_df.time[0]\n",
    "start = trumps_tweets_df.time[len(trumps_tweets_df.time)-1]\n",
    "time_tweeted = end - start\n",
    "print(\"Days:\", time_tweeted.days)\n",
    "print(\"Minutes:\", round(time_tweeted.seconds/60))"
   ]
  },
  {
   "cell_type": "markdown",
   "metadata": {},
   "source": [
    "Therefore I gonna use Tramp´s tweet data without his retweets. \n",
    "Create calculation with assumntion of how many tweets he posted in the 3 years."
   ]
  },
  {
   "cell_type": "code",
   "execution_count": 160,
   "metadata": {},
   "outputs": [
    {
     "data": {
      "text/plain": [
       "87600"
      ]
     },
     "execution_count": 160,
     "metadata": {},
     "output_type": "execute_result"
    }
   ],
   "source": [
    "# 10 tweet per hour * 8 hours a day * 365 for one year * 3 because he is president for 3 years\n",
    "10 * 8 * 365 * 3"
   ]
  },
  {
   "cell_type": "markdown",
   "metadata": {},
   "source": [
    "This amount is less than 100.000 which is the limit of one request per day. \n",
    "Therefore I gonna contunie with the retweets and filter later one, maybe I can do some interesting stuff with the retweets..."
   ]
  },
  {
   "cell_type": "markdown",
   "metadata": {},
   "source": [
    "### Problem: access just last 7 days"
   ]
  },
  {
   "cell_type": "code",
   "execution_count": null,
   "metadata": {},
   "outputs": [],
   "source": []
  }
 ],
 "metadata": {
  "kernelspec": {
   "display_name": "Python 2",
   "language": "python",
   "name": "python2"
  },
  "language_info": {
   "codemirror_mode": {
    "name": "ipython",
    "version": 2
   },
   "file_extension": ".py",
   "mimetype": "text/x-python",
   "name": "python",
   "nbconvert_exporter": "python",
   "pygments_lexer": "ipython2",
   "version": "2.7.16"
  }
 },
 "nbformat": 4,
 "nbformat_minor": 4
}
