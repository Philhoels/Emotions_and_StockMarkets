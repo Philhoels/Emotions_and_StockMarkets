{
 "cells": [
  {
   "cell_type": "markdown",
   "metadata": {},
   "source": [
    "# Watson API test"
   ]
  },
  {
   "cell_type": "markdown",
   "metadata": {},
   "source": [
    "This notebook is going to be important for the **data labeling**. \n",
    "\n",
    "Since the data part of my project is going to be a very important one, I gonna create a section where I will talk about the labeling problem in natural language processing. There are different ways to deal with the labeling problem: \n",
    "\n",
    "- Labeling via expert\n",
    "- week supervised learning\n",
    "- Using Watson API\n",
    "\n",
    "I thought it´s going to be interesting to use the Watson API to classify emotions. \n",
    "Important, especially for the discussion, is to figure out how the Waston systems work. Therefore I should explain in the report:\n",
    "\n",
    "- Model - The model they are using\n",
    "\n",
    "Also important:\n",
    "\n",
    "- example - how good the model works\n",
    "\n",
    "**In this notebook, I´m going to run the API, see how the API works, how the output is going to be and how good the API performers.**"
   ]
  },
  {
   "cell_type": "code",
   "execution_count": null,
   "metadata": {},
   "outputs": [],
   "source": []
  }
 ],
 "metadata": {
  "kernelspec": {
   "display_name": "Python 3",
   "language": "python",
   "name": "python3"
  },
  "language_info": {
   "codemirror_mode": {
    "name": "ipython",
    "version": 3
   },
   "file_extension": ".py",
   "mimetype": "text/x-python",
   "name": "python",
   "nbconvert_exporter": "python",
   "pygments_lexer": "ipython3",
   "version": "3.7.4"
  }
 },
 "nbformat": 4,
 "nbformat_minor": 4
}
