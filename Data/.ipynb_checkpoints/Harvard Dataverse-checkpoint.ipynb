{
 "cells": [
  {
   "cell_type": "markdown",
   "metadata": {},
   "source": [
    "The goal of this notebook is to open and look at Trump's tweet data provided by [Harvard Dataverse](https://dataverse.harvard.edu/dataset.xhtml?persistentId=doi:10.7910/DVN/KJEBIL).\n",
    "\n",
    "This data set provides data in the **time frame from 04.05.2009 until the 11.07.19**. \n",
    "\n",
    "It´s **not the exact time period** I´m looking for, however I first will look at the data."
   ]
  },
  {
   "cell_type": "code",
   "execution_count": 2,
   "metadata": {},
   "outputs": [],
   "source": [
    "# import packages we need\n",
    "import ndjson"
   ]
  },
  {
   "cell_type": "code",
   "execution_count": 4,
   "metadata": {},
   "outputs": [],
   "source": [
    "# load from file-like objects\n",
    "with open('realdonaldtrump.ndjson') as f:\n",
    "    data = ndjson.load(f)"
   ]
  },
  {
   "cell_type": "code",
   "execution_count": 41,
   "metadata": {
    "scrolled": true
   },
   "outputs": [
    {
     "name": "stdout",
     "output_type": "stream",
     "text": [
      "Data type: <class 'list'>\n",
      "Data length: 40241\n",
      "Data in list: <class 'dict'>\n",
      "Keys of dict:\n",
      " dict_keys(['contributors', 'coordinates', 'created_at', 'entities', 'favorite_count', 'favorited', 'geo', 'id', 'id_str', 'in_reply_to_screen_name', 'in_reply_to_status_id', 'in_reply_to_status_id_str', 'in_reply_to_user_id', 'in_reply_to_user_id_str', 'is_quote_status', 'lang', 'place', 'retrieved_utc', 'retweet_count', 'retweeted', 'source', 'text', 'truncated', 'user'])\n"
     ]
    }
   ],
   "source": [
    "# check data\n",
    "print(\"Data type:\", type(data))\n",
    "print(\"Data length:\", len(data))\n",
    "print(\"Data in list:\", type(data[0]))\n",
    "print(\"Keys of dict:\\n\", data[0].keys())"
   ]
  },
  {
   "cell_type": "code",
   "execution_count": 15,
   "metadata": {},
   "outputs": [
    {
     "data": {
      "text/plain": [
       "[{'contributors': None,\n",
       "  'coordinates': None,\n",
       "  'created_at': 'Thu Jul 11 15:52:18 +0000 2019',\n",
       "  'entities': {'hashtags': [],\n",
       "   'symbols': [],\n",
       "   'urls': [{'display_url': 'twitter.com/i/web/status/1…',\n",
       "     'expanded_url': 'https://twitter.com/i/web/status/1149345680189722630',\n",
       "     'indices': [116, 139],\n",
       "     'url': 'https://t.co/Xu0117O2p8'}],\n",
       "   'user_mentions': []},\n",
       "  'favorite_count': 8294,\n",
       "  'favorited': False,\n",
       "  'geo': None,\n",
       "  'id': 1149345680189722630,\n",
       "  'id_str': '1149345680189722630',\n",
       "  'in_reply_to_screen_name': 'realDonaldTrump',\n",
       "  'in_reply_to_status_id': 1149345678814060545,\n",
       "  'in_reply_to_status_id_str': '1149345678814060545',\n",
       "  'in_reply_to_user_id': 25073877,\n",
       "  'in_reply_to_user_id_str': '25073877',\n",
       "  'is_quote_status': False,\n",
       "  'lang': 'en',\n",
       "  'place': None,\n",
       "  'retrieved_utc': 1562866735.0,\n",
       "  'retweet_count': 2540,\n",
       "  'retweeted': False,\n",
       "  'source': '<a href=\"http://twitter.com/download/iphone\" rel=\"nofollow\">Twitter for iPhone</a>',\n",
       "  'text': '...The Fake News is not as important, or as powerful, as Social Media. They have lost tremendous credibility since… https://t.co/Xu0117O2p8',\n",
       "  'truncated': True,\n",
       "  'user': {'contributors_enabled': False,\n",
       "   'created_at': 'Wed Mar 18 13:46:38 +0000 2009',\n",
       "   'default_profile': False,\n",
       "   'default_profile_image': False,\n",
       "   'description': '45th President of the United States of America🇺🇸',\n",
       "   'entities': {'description': {'urls': []},\n",
       "    'url': {'urls': [{'display_url': 'Instagram.com/realDonaldTrump',\n",
       "       'expanded_url': 'http://www.Instagram.com/realDonaldTrump',\n",
       "       'indices': [0, 23],\n",
       "       'url': 'https://t.co/OMxB0x7xC5'}]}},\n",
       "   'favourites_count': 7,\n",
       "   'follow_request_sent': False,\n",
       "   'followers_count': 61858883,\n",
       "   'following': True,\n",
       "   'friends_count': 47,\n",
       "   'geo_enabled': True,\n",
       "   'has_extended_profile': False,\n",
       "   'id': 25073877,\n",
       "   'id_str': '25073877',\n",
       "   'is_translation_enabled': True,\n",
       "   'is_translator': False,\n",
       "   'lang': None,\n",
       "   'listed_count': 105141,\n",
       "   'location': 'Washington, DC',\n",
       "   'name': 'Donald J. Trump',\n",
       "   'notifications': False,\n",
       "   'profile_background_color': '6D5C18',\n",
       "   'profile_background_image_url': 'http://abs.twimg.com/images/themes/theme1/bg.png',\n",
       "   'profile_background_image_url_https': 'https://abs.twimg.com/images/themes/theme1/bg.png',\n",
       "   'profile_background_tile': True,\n",
       "   'profile_banner_url': 'https://pbs.twimg.com/profile_banners/25073877/1560920145',\n",
       "   'profile_image_url': 'http://pbs.twimg.com/profile_images/874276197357596672/kUuht00m_normal.jpg',\n",
       "   'profile_image_url_https': 'https://pbs.twimg.com/profile_images/874276197357596672/kUuht00m_normal.jpg',\n",
       "   'profile_link_color': '1B95E0',\n",
       "   'profile_sidebar_border_color': 'BDDCAD',\n",
       "   'profile_sidebar_fill_color': 'C5CEC0',\n",
       "   'profile_text_color': '333333',\n",
       "   'profile_use_background_image': True,\n",
       "   'protected': False,\n",
       "   'screen_name': 'realDonaldTrump',\n",
       "   'statuses_count': 42807,\n",
       "   'time_zone': None,\n",
       "   'translator_type': 'regular',\n",
       "   'url': 'https://t.co/OMxB0x7xC5',\n",
       "   'utc_offset': None,\n",
       "   'verified': True}},\n",
       " {'contributors': None,\n",
       "  'coordinates': None,\n",
       "  'created_at': 'Thu Jul 11 15:52:19 +0000 2019',\n",
       "  'entities': {'hashtags': [],\n",
       "   'symbols': [],\n",
       "   'urls': [{'display_url': 'twitter.com/i/web/status/1…',\n",
       "     'expanded_url': 'https://twitter.com/i/web/status/1149345681829744647',\n",
       "     'indices': [117, 140],\n",
       "     'url': 'https://t.co/GhyRoi1TGA'}],\n",
       "   'user_mentions': []},\n",
       "  'favorite_count': 20103,\n",
       "  'favorited': False,\n",
       "  'geo': None,\n",
       "  'id': 1149345681829744647,\n",
       "  'id_str': '1149345681829744647',\n",
       "  'in_reply_to_screen_name': 'realDonaldTrump',\n",
       "  'in_reply_to_status_id': 1149345680189722630,\n",
       "  'in_reply_to_status_id_str': '1149345680189722630',\n",
       "  'in_reply_to_user_id': 25073877,\n",
       "  'in_reply_to_user_id_str': '25073877',\n",
       "  'is_quote_status': False,\n",
       "  'lang': 'en',\n",
       "  'place': None,\n",
       "  'retrieved_utc': 1562866735.0,\n",
       "  'retweet_count': 4533,\n",
       "  'retweeted': False,\n",
       "  'source': '<a href=\"http://twitter.com/download/iphone\" rel=\"nofollow\">Twitter for iPhone</a>',\n",
       "  'text': '...years, or maybe 10 or 14 (just kidding), they will quickly go out of business for lack of credibility, or approv… https://t.co/GhyRoi1TGA',\n",
       "  'truncated': True,\n",
       "  'user': {'contributors_enabled': False,\n",
       "   'created_at': 'Wed Mar 18 13:46:38 +0000 2009',\n",
       "   'default_profile': False,\n",
       "   'default_profile_image': False,\n",
       "   'description': '45th President of the United States of America🇺🇸',\n",
       "   'entities': {'description': {'urls': []},\n",
       "    'url': {'urls': [{'display_url': 'Instagram.com/realDonaldTrump',\n",
       "       'expanded_url': 'http://www.Instagram.com/realDonaldTrump',\n",
       "       'indices': [0, 23],\n",
       "       'url': 'https://t.co/OMxB0x7xC5'}]}},\n",
       "   'favourites_count': 7,\n",
       "   'follow_request_sent': False,\n",
       "   'followers_count': 61858883,\n",
       "   'following': True,\n",
       "   'friends_count': 47,\n",
       "   'geo_enabled': True,\n",
       "   'has_extended_profile': False,\n",
       "   'id': 25073877,\n",
       "   'id_str': '25073877',\n",
       "   'is_translation_enabled': True,\n",
       "   'is_translator': False,\n",
       "   'lang': None,\n",
       "   'listed_count': 105141,\n",
       "   'location': 'Washington, DC',\n",
       "   'name': 'Donald J. Trump',\n",
       "   'notifications': False,\n",
       "   'profile_background_color': '6D5C18',\n",
       "   'profile_background_image_url': 'http://abs.twimg.com/images/themes/theme1/bg.png',\n",
       "   'profile_background_image_url_https': 'https://abs.twimg.com/images/themes/theme1/bg.png',\n",
       "   'profile_background_tile': True,\n",
       "   'profile_banner_url': 'https://pbs.twimg.com/profile_banners/25073877/1560920145',\n",
       "   'profile_image_url': 'http://pbs.twimg.com/profile_images/874276197357596672/kUuht00m_normal.jpg',\n",
       "   'profile_image_url_https': 'https://pbs.twimg.com/profile_images/874276197357596672/kUuht00m_normal.jpg',\n",
       "   'profile_link_color': '1B95E0',\n",
       "   'profile_sidebar_border_color': 'BDDCAD',\n",
       "   'profile_sidebar_fill_color': 'C5CEC0',\n",
       "   'profile_text_color': '333333',\n",
       "   'profile_use_background_image': True,\n",
       "   'protected': False,\n",
       "   'screen_name': 'realDonaldTrump',\n",
       "   'statuses_count': 42807,\n",
       "   'time_zone': None,\n",
       "   'translator_type': 'regular',\n",
       "   'url': 'https://t.co/OMxB0x7xC5',\n",
       "   'utc_offset': None,\n",
       "   'verified': True}},\n",
       " {'contributors': None,\n",
       "  'coordinates': None,\n",
       "  'created_at': 'Thu Jul 11 15:52:19 +0000 2019',\n",
       "  'entities': {'hashtags': [],\n",
       "   'symbols': [],\n",
       "   'urls': [{'display_url': 'twitter.com/i/web/status/1…',\n",
       "     'expanded_url': 'https://twitter.com/i/web/status/1149345683138367491',\n",
       "     'indices': [117, 140],\n",
       "     'url': 'https://t.co/zAYNhLI8Fi'}],\n",
       "   'user_mentions': []},\n",
       "  'favorite_count': 22785,\n",
       "  'favorited': False,\n",
       "  'geo': None,\n",
       "  'id': 1149345683138367491,\n",
       "  'id_str': '1149345683138367491',\n",
       "  'in_reply_to_screen_name': 'realDonaldTrump',\n",
       "  'in_reply_to_status_id': 1149345681829744647,\n",
       "  'in_reply_to_status_id_str': '1149345681829744647',\n",
       "  'in_reply_to_user_id': 25073877,\n",
       "  'in_reply_to_user_id_str': '25073877',\n",
       "  'is_quote_status': False,\n",
       "  'lang': 'en',\n",
       "  'place': None,\n",
       "  'retrieved_utc': 1562866735.0,\n",
       "  'retweet_count': 5236,\n",
       "  'retweeted': False,\n",
       "  'source': '<a href=\"http://twitter.com/download/iphone\" rel=\"nofollow\">Twitter for iPhone</a>',\n",
       "  'text': '...or a very nervous and skinny version of Pocahontas (1/1024th), as your President, rather than what you have now,… https://t.co/zAYNhLI8Fi',\n",
       "  'truncated': True,\n",
       "  'user': {'contributors_enabled': False,\n",
       "   'created_at': 'Wed Mar 18 13:46:38 +0000 2009',\n",
       "   'default_profile': False,\n",
       "   'default_profile_image': False,\n",
       "   'description': '45th President of the United States of America🇺🇸',\n",
       "   'entities': {'description': {'urls': []},\n",
       "    'url': {'urls': [{'display_url': 'Instagram.com/realDonaldTrump',\n",
       "       'expanded_url': 'http://www.Instagram.com/realDonaldTrump',\n",
       "       'indices': [0, 23],\n",
       "       'url': 'https://t.co/OMxB0x7xC5'}]}},\n",
       "   'favourites_count': 7,\n",
       "   'follow_request_sent': False,\n",
       "   'followers_count': 61858883,\n",
       "   'following': True,\n",
       "   'friends_count': 47,\n",
       "   'geo_enabled': True,\n",
       "   'has_extended_profile': False,\n",
       "   'id': 25073877,\n",
       "   'id_str': '25073877',\n",
       "   'is_translation_enabled': True,\n",
       "   'is_translator': False,\n",
       "   'lang': None,\n",
       "   'listed_count': 105141,\n",
       "   'location': 'Washington, DC',\n",
       "   'name': 'Donald J. Trump',\n",
       "   'notifications': False,\n",
       "   'profile_background_color': '6D5C18',\n",
       "   'profile_background_image_url': 'http://abs.twimg.com/images/themes/theme1/bg.png',\n",
       "   'profile_background_image_url_https': 'https://abs.twimg.com/images/themes/theme1/bg.png',\n",
       "   'profile_background_tile': True,\n",
       "   'profile_banner_url': 'https://pbs.twimg.com/profile_banners/25073877/1560920145',\n",
       "   'profile_image_url': 'http://pbs.twimg.com/profile_images/874276197357596672/kUuht00m_normal.jpg',\n",
       "   'profile_image_url_https': 'https://pbs.twimg.com/profile_images/874276197357596672/kUuht00m_normal.jpg',\n",
       "   'profile_link_color': '1B95E0',\n",
       "   'profile_sidebar_border_color': 'BDDCAD',\n",
       "   'profile_sidebar_fill_color': 'C5CEC0',\n",
       "   'profile_text_color': '333333',\n",
       "   'profile_use_background_image': True,\n",
       "   'protected': False,\n",
       "   'screen_name': 'realDonaldTrump',\n",
       "   'statuses_count': 42807,\n",
       "   'time_zone': None,\n",
       "   'translator_type': 'regular',\n",
       "   'url': 'https://t.co/OMxB0x7xC5',\n",
       "   'utc_offset': None,\n",
       "   'verified': True}}]"
      ]
     },
     "execution_count": 15,
     "metadata": {},
     "output_type": "execute_result"
    }
   ],
   "source": [
    "# check the last 3 tweets of the data set\n",
    "last3tweets = data[40238:40241]\n",
    "last3tweets"
   ]
  },
  {
   "cell_type": "markdown",
   "metadata": {},
   "source": [
    "It looks like this data set does not incluede the whole text of the tweet...\n",
    "\n",
    "I´m going to check the attritbutes I´m interested in (**in_reply_to_screen_name, created_at,text**)"
   ]
  },
  {
   "cell_type": "code",
   "execution_count": 44,
   "metadata": {},
   "outputs": [
    {
     "data": {
      "text/plain": [
       "'realDonaldTrump'"
      ]
     },
     "execution_count": 44,
     "metadata": {},
     "output_type": "execute_result"
    }
   ],
   "source": [
    "last3tweets[0][\"in_reply_to_screen_name\"]"
   ]
  },
  {
   "cell_type": "code",
   "execution_count": 48,
   "metadata": {},
   "outputs": [
    {
     "data": {
      "text/plain": [
       "['realDonaldTrump',\n",
       " 'Thu Jul 11 15:52:18 +0000 2019',\n",
       " '...The Fake News is not as important, or as powerful, as Social Media. They have lost tremendous credibility since… https://t.co/Xu0117O2p8']"
      ]
     },
     "execution_count": 48,
     "metadata": {},
     "output_type": "execute_result"
    }
   ],
   "source": [
    "# to access several key values, do we have to loop over the keys of the dict element\n",
    "keys = [\"in_reply_to_screen_name\", \"created_at\", \"text\"]\n",
    "[last3tweets[0].get(key) for key in keys]"
   ]
  },
  {
   "cell_type": "code",
   "execution_count": null,
   "metadata": {},
   "outputs": [],
   "source": []
  }
 ],
 "metadata": {
  "kernelspec": {
   "display_name": "Python 3",
   "language": "python",
   "name": "python3"
  },
  "language_info": {
   "codemirror_mode": {
    "name": "ipython",
    "version": 3
   },
   "file_extension": ".py",
   "mimetype": "text/x-python",
   "name": "python",
   "nbconvert_exporter": "python",
   "pygments_lexer": "ipython3",
   "version": "3.7.4"
  }
 },
 "nbformat": 4,
 "nbformat_minor": 4
}
