{
 "cells": [
  {
   "cell_type": "markdown",
   "metadata": {},
   "source": [
    "In this notebook I´m going to check the data of the [Trump Tiwtter Archive](http://www.trumptwitterarchive.com/archive). \n",
    "\n",
    "I got the data as .json text and copy past into a file I saved.\n",
    "\n",
    "The data looks a bit weird in the file itself, but I´m going to check it now."
   ]
  },
  {
   "cell_type": "code",
   "execution_count": 1,
   "metadata": {},
   "outputs": [],
   "source": [
    "# import needed libraries\n",
    "import json"
   ]
  },
  {
   "cell_type": "code",
   "execution_count": 7,
   "metadata": {},
   "outputs": [],
   "source": [
    "# load data\n",
    "with open('tt.json') as x:\n",
    "    data = json.load(x)"
   ]
  },
  {
   "cell_type": "code",
   "execution_count": 24,
   "metadata": {},
   "outputs": [
    {
     "name": "stdout",
     "output_type": "stream",
     "text": [
      "Data type; <class 'list'>\n",
      "Length of data: 15161\n"
     ]
    }
   ],
   "source": [
    "# check the data\n",
    "print(\"Data type;\", type(data))\n",
    "print(\"Length of data:\", len(data))"
   ]
  },
  {
   "cell_type": "code",
   "execution_count": 16,
   "metadata": {},
   "outputs": [
    {
     "data": {
      "text/plain": [
       "{'source': 'Twitter for iPhone',\n",
       " 'text': '....always continue. Every Republican Senator except Romney, many highly religious people, all very smart, voted against the Impeachment Hoax. @SenCapito was all in (a great person). I was told by many that Manchin was just a puppet for Schumer &amp; Pelosi. That’s all he is!',\n",
       " 'created_at': 'Fri Feb 07 21:57:25 +0000 2020',\n",
       " 'retweet_count': 15920,\n",
       " 'favorite_count': 67296,\n",
       " 'is_retweet': False,\n",
       " 'id_str': '1225901404600049664'}"
      ]
     },
     "execution_count": 16,
     "metadata": {},
     "output_type": "execute_result"
    }
   ],
   "source": [
    "# check the first element\n",
    "data[0]"
   ]
  },
  {
   "cell_type": "code",
   "execution_count": 23,
   "metadata": {},
   "outputs": [
    {
     "name": "stdout",
     "output_type": "stream",
     "text": [
      "---\n",
      "Fri Feb 07 21:57:25 +0000 2020\n",
      "....always continue. Every Republican Senator except Romney, many highly religious people, all very smart, voted against the Impeachment Hoax. @SenCapito was all in (a great person). I was told by many that Manchin was just a puppet for Schumer &amp; Pelosi. That’s all he is!\n",
      "---\n",
      "Fri Feb 07 21:57:24 +0000 2020\n",
      "I was very surprised &amp; disappointed that Senator Joe Manchin of West Virginia voted against me on the Democrat’s totally partisan Impeachment Hoax. No President has done more for the great people of West Virginia than me (Pensions), and that will....\n",
      "---\n",
      "Fri Feb 07 20:00:51 +0000 2020\n",
      "Great to be in Charlotte, North Carolina as we expand and grow this unprecedented economic momentum. Today, we launched a brand new nationwide campaign to revitalize under-served cities and towns across America – it’s called OPPORTUNITY NOW! https://t.co/jh2Ve6BUtJ\n",
      "---\n",
      "Fri Feb 07 17:51:42 +0000 2020\n",
      "Another win just in. Nervous Nancy Pelosi and the Democrats in Congress sued me, thrown out. This one unanimous, in the D.C. Circuit.\n",
      "Witch Hunt!\n",
      "---\n",
      "Fri Feb 07 16:45:44 +0000 2020\n",
      "JOBS, JOBS, JOBS!\n",
      "#PromisesMadePromisesKept🇺🇸 https://t.co/yIOxpzCNb7\n",
      "---\n",
      "Fri Feb 07 16:36:42 +0000 2020\n",
      "Iowa and New Hampshire will not be moved from the Primary Schedule as long as I am President. Great tradition!\n",
      "---\n",
      "Fri Feb 07 16:34:58 +0000 2020\n",
      "Off to North Carolina! https://t.co/dreH1rw3sz\n",
      "---\n",
      "Fri Feb 07 16:31:56 +0000 2020\n",
      "The Democrat Party has given up on counting votes in Iowa. Looks like it all got computer “fried”. Nobody knows who the real winner is. Maybe it’s Sleepy Joe, but it’s not looking that way. They lost millions &amp; millions of dollars, all for NOTHING. But I WON Iowa big!\n",
      "---\n",
      "Fri Feb 07 13:51:07 +0000 2020\n",
      "https://t.co/9GEW2VZu5h\n",
      "---\n",
      "Fri Feb 07 12:59:58 +0000 2020\n",
      "I think they should blame RUSSIA, RUSSIA, RUSSIA again! If they can’t count votes properly, how are they going to run U.S. HealthCare? https://t.co/JsNB8jvKoo\n",
      "---\n",
      "Fri Feb 07 12:55:06 +0000 2020\n",
      "Welcome back James! https://t.co/m116MGrrRo\n",
      "---\n",
      "Fri Feb 07 12:47:41 +0000 2020\n",
      "Very true, thank you Ted &amp; John. I love Texas! https://t.co/NoWTheat7Z\n",
      "---\n",
      "Fri Feb 07 12:39:38 +0000 2020\n",
      "So do I! https://t.co/al7O6HHT9w\n",
      "---\n",
      "Fri Feb 07 12:00:48 +0000 2020\n",
      "Thank you Charlie! https://t.co/fG7YXOCk9R\n",
      "---\n",
      "Fri Feb 07 11:28:13 +0000 2020\n",
      "Don’t worry, it won’t happen! https://t.co/XpUzHt8JKH\n",
      "---\n",
      "Fri Feb 07 10:31:23 +0000 2020\n",
      "....he will be successful, especially as the weather starts to warm &amp; the virus hopefully becomes weaker, and then gone. Great discipline is taking place in China, as President Xi strongly leads what will be a very successful operation. We are working closely with China to help!\n",
      "---\n",
      "Fri Feb 07 10:31:22 +0000 2020\n",
      "Just had a long and very good conversation by phone with President Xi of China. He is strong, sharp and powerfully focused on leading the counterattack on the Coronavirus. He feels they are doing very well, even building hospitals in a matter of only days. Nothing is easy, but...\n",
      "---\n",
      "Fri Feb 07 01:17:04 +0000 2020\n",
      "“The Senate acquitted President Trump of both charges fabricated by Congressional Democrats, led by Speaker Pelosi and Adam Schiff, to carry out the most egregious and partisan attack against any president in our history - a man they knew to be innocent.” @LouDobbs @FoxBusiness\n",
      "---\n",
      "Fri Feb 07 01:16:08 +0000 2020\n",
      "“This President has done more for African Americans in this Country than any President since Lincoln.” @LouDobbs\n",
      "---\n",
      "Thu Feb 06 22:53:27 +0000 2020\n",
      "https://t.co/QhTWvcY4Ke\n",
      "---\n",
      "Thu Feb 06 22:32:52 +0000 2020\n",
      "Welcome back to Earth, @Astro_Christina, and congratulations on breaking the female record for the longest stay in space! You’re inspiring young women and making the USA proud! Enjoyed speaking with you and @Astro_Jessica on the first all-female spacewalk IN HISTORY last year.\n",
      "---\n",
      "Thu Feb 06 22:11:13 +0000 2020\n",
      "Nevada, I hear you on Yucca Mountain and my Administration will RESPECT you! Congress and previous Administrations have long failed to find lasting solutions – my Administration is committed to exploring innovative approaches – I’m confident we can get it done!\n",
      "---\n",
      "Thu Feb 06 21:13:35 +0000 2020\n",
      "So true! https://t.co/Ds9MSUlWXA\n",
      "---\n",
      "Thu Feb 06 18:56:47 +0000 2020\n",
      "https://t.co/KwC2zrtJxQ\n",
      "---\n",
      "Thu Feb 06 05:22:52 +0000 2020\n",
      "Had failed presidential candidate @MittRomney devoted the same energy and anger to defeating a faltering Barack Obama as he sanctimoniously does to me, he could have won the election. Read the Transcripts!\n",
      "---\n",
      "Thu Feb 06 05:06:18 +0000 2020\n",
      "@nytimes “The Votes Were A Resounding Victory For Mr. Trump.” True, but the Impeachment Hoax was just a continuation of the Radical Left, Do Nothing Democrats corrupt practices!\n",
      "---\n",
      "Thu Feb 06 03:28:01 +0000 2020\n",
      "“What Really Happened”\n",
      "---\n",
      "Wed Feb 05 23:45:32 +0000 2020\n",
      "https://t.co/FIg1SYtJcy\n",
      "---\n",
      "Wed Feb 05 22:07:04 +0000 2020\n",
      "I will be making a public statement tomorrow at 12:00pm from the @WhiteHouse to discuss our Country’s VICTORY on the Impeachment Hoax!\n",
      "---\n",
      "Wed Feb 05 21:49:49 +0000 2020\n",
      "https://t.co/JDS4zUXXJG\n",
      "---\n",
      "Wed Feb 05 20:44:31 +0000 2020\n",
      "https://t.co/lj8RUqcz37\n",
      "---\n",
      "Wed Feb 05 15:22:37 +0000 2020\n",
      "“The Democrats want to run a Country, and they can’t run a Caucus.” Brad Blakeman @FoxNews  Iowa is a complete disaster for the Dems. They should bring in Mini Mike Bloomberg ASAP!\n",
      "---\n",
      "Wed Feb 05 13:19:14 +0000 2020\n",
      "Thank you Jonathan, and great job! https://t.co/GAZJ5ErJpF\n"
     ]
    }
   ],
   "source": [
    "# check if the tweet in complete\n",
    "for i in range(100):\n",
    "    if data[i][\"text\"].split()[0] != \"RT\":\n",
    "        print(\"---\")\n",
    "        print(data[i][\"created_at\"])\n",
    "        print(data[i][\"text\"])"
   ]
  },
  {
   "cell_type": "markdown",
   "metadata": {},
   "source": [
    "It looks like, the **retweets are incomplete** but his **own tweets are**. "
   ]
  },
  {
   "cell_type": "code",
   "execution_count": null,
   "metadata": {},
   "outputs": [],
   "source": []
  }
 ],
 "metadata": {
  "kernelspec": {
   "display_name": "Python 3",
   "language": "python",
   "name": "python3"
  },
  "language_info": {
   "codemirror_mode": {
    "name": "ipython",
    "version": 3
   },
   "file_extension": ".py",
   "mimetype": "text/x-python",
   "name": "python",
   "nbconvert_exporter": "python",
   "pygments_lexer": "ipython3",
   "version": "3.7.4"
  }
 },
 "nbformat": 4,
 "nbformat_minor": 4
}
