{
 "cells": [
  {
   "cell_type": "markdown",
   "metadata": {},
   "source": [
    "In this notebook I´m going to check out a data set I found via [Kaggle](https://www.kaggle.com/austinreese/trump-tweets).\n",
    "\n",
    "This data set is scraped until the 20.01.2020."
   ]
  },
  {
   "cell_type": "code",
   "execution_count": 1,
   "metadata": {},
   "outputs": [],
   "source": [
    "# import libraries needed\n",
    "import pandas as pd"
   ]
  },
  {
   "cell_type": "code",
   "execution_count": 5,
   "metadata": {},
   "outputs": [],
   "source": [
    "# load the tweets\n",
    "data = pd.read_csv(\"trumptweets.csv\")"
   ]
  },
  {
   "cell_type": "code",
   "execution_count": 13,
   "metadata": {},
   "outputs": [
    {
     "data": {
      "text/html": [
       "<div>\n",
       "<style scoped>\n",
       "    .dataframe tbody tr th:only-of-type {\n",
       "        vertical-align: middle;\n",
       "    }\n",
       "\n",
       "    .dataframe tbody tr th {\n",
       "        vertical-align: top;\n",
       "    }\n",
       "\n",
       "    .dataframe thead th {\n",
       "        text-align: right;\n",
       "    }\n",
       "</style>\n",
       "<table border=\"1\" class=\"dataframe\">\n",
       "  <thead>\n",
       "    <tr style=\"text-align: right;\">\n",
       "      <th></th>\n",
       "      <th>id</th>\n",
       "      <th>link</th>\n",
       "      <th>content</th>\n",
       "      <th>date</th>\n",
       "      <th>retweets</th>\n",
       "      <th>favorites</th>\n",
       "      <th>mentions</th>\n",
       "      <th>hashtags</th>\n",
       "      <th>geo</th>\n",
       "    </tr>\n",
       "  </thead>\n",
       "  <tbody>\n",
       "    <tr>\n",
       "      <th>0</th>\n",
       "      <td>1698308935</td>\n",
       "      <td>https://twitter.com/realDonaldTrump/status/169...</td>\n",
       "      <td>Be sure to tune in and watch Donald Trump on L...</td>\n",
       "      <td>2009-05-04 20:54:25</td>\n",
       "      <td>500</td>\n",
       "      <td>868</td>\n",
       "      <td>NaN</td>\n",
       "      <td>NaN</td>\n",
       "      <td>NaN</td>\n",
       "    </tr>\n",
       "    <tr>\n",
       "      <th>1</th>\n",
       "      <td>1701461182</td>\n",
       "      <td>https://twitter.com/realDonaldTrump/status/170...</td>\n",
       "      <td>Donald Trump will be appearing on The View tom...</td>\n",
       "      <td>2009-05-05 03:00:10</td>\n",
       "      <td>33</td>\n",
       "      <td>273</td>\n",
       "      <td>NaN</td>\n",
       "      <td>NaN</td>\n",
       "      <td>NaN</td>\n",
       "    </tr>\n",
       "    <tr>\n",
       "      <th>2</th>\n",
       "      <td>1737479987</td>\n",
       "      <td>https://twitter.com/realDonaldTrump/status/173...</td>\n",
       "      <td>Donald Trump reads Top Ten Financial Tips on L...</td>\n",
       "      <td>2009-05-08 15:38:08</td>\n",
       "      <td>12</td>\n",
       "      <td>18</td>\n",
       "      <td>NaN</td>\n",
       "      <td>NaN</td>\n",
       "      <td>NaN</td>\n",
       "    </tr>\n",
       "    <tr>\n",
       "      <th>3</th>\n",
       "      <td>1741160716</td>\n",
       "      <td>https://twitter.com/realDonaldTrump/status/174...</td>\n",
       "      <td>New Blog Post: Celebrity Apprentice Finale and...</td>\n",
       "      <td>2009-05-08 22:40:15</td>\n",
       "      <td>11</td>\n",
       "      <td>24</td>\n",
       "      <td>NaN</td>\n",
       "      <td>NaN</td>\n",
       "      <td>NaN</td>\n",
       "    </tr>\n",
       "    <tr>\n",
       "      <th>4</th>\n",
       "      <td>1773561338</td>\n",
       "      <td>https://twitter.com/realDonaldTrump/status/177...</td>\n",
       "      <td>\"My persona will never be that of a wallflower...</td>\n",
       "      <td>2009-05-12 16:07:28</td>\n",
       "      <td>1399</td>\n",
       "      <td>1965</td>\n",
       "      <td>NaN</td>\n",
       "      <td>NaN</td>\n",
       "      <td>NaN</td>\n",
       "    </tr>\n",
       "  </tbody>\n",
       "</table>\n",
       "</div>"
      ],
      "text/plain": [
       "           id                                               link  \\\n",
       "0  1698308935  https://twitter.com/realDonaldTrump/status/169...   \n",
       "1  1701461182  https://twitter.com/realDonaldTrump/status/170...   \n",
       "2  1737479987  https://twitter.com/realDonaldTrump/status/173...   \n",
       "3  1741160716  https://twitter.com/realDonaldTrump/status/174...   \n",
       "4  1773561338  https://twitter.com/realDonaldTrump/status/177...   \n",
       "\n",
       "                                             content                 date  \\\n",
       "0  Be sure to tune in and watch Donald Trump on L...  2009-05-04 20:54:25   \n",
       "1  Donald Trump will be appearing on The View tom...  2009-05-05 03:00:10   \n",
       "2  Donald Trump reads Top Ten Financial Tips on L...  2009-05-08 15:38:08   \n",
       "3  New Blog Post: Celebrity Apprentice Finale and...  2009-05-08 22:40:15   \n",
       "4  \"My persona will never be that of a wallflower...  2009-05-12 16:07:28   \n",
       "\n",
       "   retweets  favorites mentions hashtags  geo  \n",
       "0       500        868      NaN      NaN  NaN  \n",
       "1        33        273      NaN      NaN  NaN  \n",
       "2        12         18      NaN      NaN  NaN  \n",
       "3        11         24      NaN      NaN  NaN  \n",
       "4      1399       1965      NaN      NaN  NaN  "
      ]
     },
     "execution_count": 13,
     "metadata": {},
     "output_type": "execute_result"
    }
   ],
   "source": [
    "# check the data\n",
    "data.head()"
   ]
  },
  {
   "cell_type": "code",
   "execution_count": 19,
   "metadata": {},
   "outputs": [
    {
     "name": "stdout",
     "output_type": "stream",
     "text": [
      "Shape of the data(row, column):  (41122, 9)\n",
      "First record: 2009-05-04 20:54:25\n",
      "Last record: 2020-01-20 02:57:49\n"
     ]
    }
   ],
   "source": [
    "print(\"Shape of the data(row, column): \", data.shape)\n",
    "print(\"First record:\", data.date[0])\n",
    "print(\"Last record:\", data.date[41121])"
   ]
  },
  {
   "cell_type": "markdown",
   "metadata": {},
   "source": [
    "It would have been very interesting to see how the economy reacted to Trumps impeachmend acquittal.\n",
    "\n",
    "However, I´m going to check the most important column, which is the content."
   ]
  },
  {
   "cell_type": "code",
   "execution_count": 37,
   "metadata": {},
   "outputs": [
    {
     "name": "stdout",
     "output_type": "stream",
     "text": [
      "-----\n",
      "Another Fake Book by two third rate Washington Post reporters, has already proven to be inaccurately reported, to their great embarrassment, all for the purpose of demeaning and belittling a President who is getting great things done for our Country, at a record clip. Thank you!\n",
      "2020-01-19 00:16:21\n",
      "-----\n",
      "A massive 200 Billion Dollar Sea Wall, built around New York to protect it from rare storms, is a costly, foolish & environmentally unfriendly idea that, when needed, probably won’t work anyway. It will also look terrible. Sorry, you’ll just have to get your mops & buckets ready!\n",
      "2020-01-19 00:18:22\n",
      "-----\n",
      "....BUT THE BEST IS YET TO COME!\n",
      "2020-01-19 01:52:28\n",
      "-----\n",
      "If you listened to the flawed advice of @ paulkrugman at the @ nytimes, a newspaper that was going broke until I came along, you would have entirely missed the RECORD BREAKING Stock Market (and other) numbers produced since Election Day, 2016. Sorry, those are the FACTS.....\n",
      "2020-01-19 01:52:42\n",
      "-----\n",
      "“Nancy Pelosi said, it’s not a question of proof, it’s a question of allegations! Oh really?” @ JudgeJeanine @ FoxNews What a disgrace this Impeachment Scam is for our great Country!\n",
      "2020-01-19 03:12:28\n",
      "-----\n",
      "pic.twitter.com/Efot9QLGDj\n",
      "2020-01-19 05:30:52\n",
      "-----\n",
      "I will be going to Austin, Texas. Leaving soon. Always like (love!) being in the Lone Star State. Speaking to our great Farmers. They hit “paydirt” with our incredible new Trade Deals: CHINA, JAPAN, MEXICO, CANADA, SOUTH KOREA, and many others!\n",
      "2020-01-19 18:44:56\n",
      "-----\n",
      "I have never seen the Republican Party as Strong and as Unified as it is right now. Thank you!\n",
      "2020-01-19 19:24:52\n",
      "-----\n",
      "Now Mini Mike Bloomberg is critical of Jack Wilson, who saved perhaps hundreds of people in a Church because he was carrying a gun, and knew how to use it. Jack quickly killed the shooter, who was beginning a rampage. Mini is against the 2nd A. His ads are Fake, just like him!\n",
      "2020-01-19 22:12:20\n",
      "-----\n",
      "I was thrilled to be back in the Great State of Texas tonight, where the people are known for being tough, strong, hardworking, loyal and fiercely patriotic — just like America’s incredible Farmers! # AFBF2020https://www.pscp.tv/w/cPTqejFvTlFsTFJub1dwUXd8MUx5eEJMV09yYllHTlRz-5NbV2gPeKOOkDEM8yurjH1YctdRkh2JVPtJ_Se1?t=5m20s …\n",
      "2020-01-20 01:27:07\n"
     ]
    }
   ],
   "source": [
    "# print the last 10 tweets\n",
    "for i in range(41110,41120):\n",
    "    print(\"-----\")\n",
    "    print(data.content[i])\n",
    "    print(data.date[i])"
   ]
  },
  {
   "cell_type": "markdown",
   "metadata": {},
   "source": [
    "The data looks good! \n",
    "\n",
    "But following points:\n",
    "\n",
    "- possible to scraped the data myself ?\n",
    "- how did they dealed with retweets?"
   ]
  },
  {
   "cell_type": "code",
   "execution_count": null,
   "metadata": {},
   "outputs": [],
   "source": []
  }
 ],
 "metadata": {
  "kernelspec": {
   "display_name": "Python 3",
   "language": "python",
   "name": "python3"
  },
  "language_info": {
   "codemirror_mode": {
    "name": "ipython",
    "version": 3
   },
   "file_extension": ".py",
   "mimetype": "text/x-python",
   "name": "python",
   "nbconvert_exporter": "python",
   "pygments_lexer": "ipython3",
   "version": "3.7.4"
  }
 },
 "nbformat": 4,
 "nbformat_minor": 4
}
